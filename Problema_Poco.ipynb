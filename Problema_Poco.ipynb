{
 "cells": [
  {
   "cell_type": "markdown",
   "metadata": {},
   "source": [
    "\n",
    "### Um homem esta em um poço com 10 metros de profundidade, durante o dia ele sobe 2 metros e a noite desce um metro.\n",
    "### Construa uma classe que resolverá esse problema. obrigatoriamente ela tem que ter 2 metros, um metodo sobe e outro metodo desce."
   ]
  },
  {
   "cell_type": "code",
   "execution_count": 2,
   "metadata": {},
   "outputs": [
    {
     "name": "stdout",
     "output_type": "stream",
     "text": [
      "8.0\n"
     ]
    }
   ],
   "source": [
    "class Poço:\n",
    "  \n",
    "\n",
    "    def __init__(self, sobe, desce, metros):\n",
    "\n",
    "        self.Metro_sobe = 2\n",
    "        self.Metro_desce = 1\n",
    "        self.Metro = 10\n",
    "        self.metro_2 = 2\n",
    "   \n",
    "\n",
    "    def Dias_subir(self):\n",
    "        return ((self.Metro) -(self.metro_2)) / ((self.Metro_sobe  ) - (self.Metro_desce )) \n",
    "\n",
    "\n",
    "p = Poço(2,1,10)\n",
    "print(p.Dias_subir())"
   ]
  }
 ],
 "metadata": {
  "kernelspec": {
   "display_name": "Python 3",
   "language": "python",
   "name": "python3"
  },
  "language_info": {
   "codemirror_mode": {
    "name": "ipython",
    "version": 3
   },
   "file_extension": ".py",
   "mimetype": "text/x-python",
   "name": "python",
   "nbconvert_exporter": "python",
   "pygments_lexer": "ipython3",
   "version": "3.8.3"
  }
 },
 "nbformat": 4,
 "nbformat_minor": 4
}

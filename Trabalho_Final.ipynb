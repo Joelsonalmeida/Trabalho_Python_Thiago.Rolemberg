{
 "cells": [
  {
   "cell_type": "markdown",
   "metadata": {},
   "source": [
    " <h3><p style=\"background-color:white; color:black\"> <b>Importando Bibliotecas </b> </p></h3>"
   ]
  },
  {
   "cell_type": "markdown",
   "metadata": {},
   "source": [
    "<p style=\"background - color:black\" Importando Bases </p>"
   ]
  },
  {
   "cell_type": "code",
   "execution_count": 3,
   "metadata": {},
   "outputs": [],
   "source": [
    "import pandas as pd "
   ]
  },
  {
   "cell_type": "markdown",
   "metadata": {},
   "source": [
    " <h3><p style=\"background-color:white; color:black\"> <b>Importando Bases </b> </p></h3>"
   ]
  },
  {
   "cell_type": "code",
   "execution_count": 4,
   "metadata": {},
   "outputs": [],
   "source": [
    "cadastro = pd.read_excel (\"cadastro - cadastro.xlsx\")\n",
    "combustivel = pd.read_excel (\"preco da gasolina - preco da gasolina.xlsx\")\n",
    "profissao = pd.read_excel (\"salario_profissoes - salario_profissoes.xlsx\")"
   ]
  },
  {
   "cell_type": "markdown",
   "metadata": {},
   "source": [
    "<h5><p style=\"background-color:white; color:blue\"> <b><i>Qual a idade média das pessoas no cadastro? </b> </p></h3>"
   ]
  },
  {
   "cell_type": "code",
   "execution_count": 5,
   "metadata": {},
   "outputs": [],
   "source": [
    "cadastro.insert(loc=3,column=\"anoAtual\",value=2020)\n",
    "cadastro.insert(loc=4,column=\"idade\", value = cadastro.anoAtual - cadastro.ano_nascimento)"
   ]
  },
  {
   "cell_type": "code",
   "execution_count": 17,
   "metadata": {},
   "outputs": [
    {
     "name": "stdout",
     "output_type": "stream",
     "text": [
      "A idade média das pessoas do cadastro é 32.73\n"
     ]
    }
   ],
   "source": [
    "print (\"A idade média das pessoas do cadastro é\",\"%.2f\"%cadastro.idade.mean())\n"
   ]
  },
  {
   "cell_type": "markdown",
   "metadata": {},
   "source": [
    "<h5><p style=\"background-color:white; color:blue\"> <b><i>Quantos homens tem no cadastro ? </b> </p></h3>"
   ]
  },
  {
   "cell_type": "code",
   "execution_count": 18,
   "metadata": {},
   "outputs": [
    {
     "name": "stdout",
     "output_type": "stream",
     "text": [
      "A quantidade de homens no cadastro é m    16\n",
      "Name: sexo, dtype: int64\n"
     ]
    }
   ],
   "source": [
    "totalHomens = cadastro.query(\"sexo == 'm'\").sexo.value_counts()\n",
    "print(\"A quantidade de homens no cadastro é\" ,totalHomens )"
   ]
  },
  {
   "cell_type": "markdown",
   "metadata": {},
   "source": [
    "<h5><p style=\"background-color:white; color:blue\"> <b><i>Quantas muheres tem no cadastro ? </b> </p></h3>"
   ]
  },
  {
   "cell_type": "code",
   "execution_count": 19,
   "metadata": {},
   "outputs": [
    {
     "name": "stdout",
     "output_type": "stream",
     "text": [
      "A quantidade de mulheres no cadastro é f    14\n",
      "Name: sexo, dtype: int64\n"
     ]
    }
   ],
   "source": [
    "totalMulheres = cadastro.query(\"sexo == 'f'\").sexo.value_counts()\n",
    "print(\"A quantidade de mulheres no cadastro é\" ,totalMulheres)"
   ]
  },
  {
   "cell_type": "markdown",
   "metadata": {},
   "source": [
    "<h5><p style=\"background-color:white; color:blue\"> <b><i>Qual a idade média dos homens e das mulheres ? </b> </p></h3>"
   ]
  },
  {
   "cell_type": "code",
   "execution_count": 20,
   "metadata": {},
   "outputs": [
    {
     "name": "stdout",
     "output_type": "stream",
     "text": [
      "A média da idade de homens é 31.75\n"
     ]
    }
   ],
   "source": [
    "mediaIdadeHomens = cadastro.query(\"sexo == 'm'\").idade.mean()\n",
    "print(\"A média da idade de homens é\",\"%.2f\"%mediaIdadeHomens)"
   ]
  },
  {
   "cell_type": "code",
   "execution_count": 22,
   "metadata": {},
   "outputs": [
    {
     "name": "stdout",
     "output_type": "stream",
     "text": [
      "A média da idade de mulheres é 33.86\n"
     ]
    }
   ],
   "source": [
    "mediaIdadeHomens = cadastro.query(\"sexo == 'f'\").idade.mean()\n",
    "print(\"A média da idade de mulheres é\",\"%.2f\"%mediaIdadeHomens)"
   ]
  },
  {
   "cell_type": "markdown",
   "metadata": {},
   "source": [
    "<h5><p style=\"background-color:white; color:blue\"> <b><i>Crie um gráfico de barras e mostre a distribuição de escolaridade no cadastro ?</b> </p></h3>"
   ]
  },
  {
   "cell_type": "code",
   "execution_count": 24,
   "metadata": {},
   "outputs": [],
   "source": [
    "cadastro = cadastro.replace(['ensino médio','ensino Médio'],'Ensino Médio')\n",
    "cadastro = cadastro.replace(\"ensino superior\",\"Ensino Superior\")"
   ]
  },
  {
   "cell_type": "code",
   "execution_count": 25,
   "metadata": {},
   "outputs": [
    {
     "data": {
      "text/plain": [
       "Ensino Superior    21\n",
       "Ensino Médio        8\n",
       "Ensimo Tecnico      1\n",
       "Name: escolaridade, dtype: int64"
      ]
     },
     "execution_count": 25,
     "metadata": {},
     "output_type": "execute_result"
    }
   ],
   "source": [
    "QtdEscolaridade = cadastro.query(\"escolaridade != ' '\").escolaridade.value_counts()\n",
    "QtdEscolaridade"
   ]
  },
  {
   "cell_type": "code",
   "execution_count": 26,
   "metadata": {},
   "outputs": [
    {
     "data": {
      "text/plain": [
       "<matplotlib.axes._subplots.AxesSubplot at 0x255d325dbb0>"
      ]
     },
     "execution_count": 26,
     "metadata": {},
     "output_type": "execute_result"
    },
    {
     "data": {
      "image/png": "[encoded data removed]",
      "text/plain": [
       "<Figure size 432x288 with 1 Axes>"
      ]
     },
     "metadata": {
      "needs_background": "light"
     },
     "output_type": "display_data"
    }
   ],
   "source": [
    "QtdEscolaridade.plot(kind='hist')"
   ]
  },
  {
   "cell_type": "markdown",
   "metadata": {},
   "source": [
    "<h5><p style=\"background-color:white; color:blue\"> <b><i>Mostre a Média Salarial do cadastro ?</b> </p></h3>"
   ]
  },
  {
   "cell_type": "code",
   "execution_count": 72,
   "metadata": {},
   "outputs": [],
   "source": [
    "profissao.rename(columns={'Profissões': 'profissão', 'salario até 3 anos': 'salarioTresAnos', 'salaior +3 anos': 'salarioMaiorTresAnos' }, inplace = True)"
   ]
  },
  {
   "cell_type": "code",
   "execution_count": 80,
   "metadata": {},
   "outputs": [],
   "source": [
    "cadastro_1 = pd.merge(cadastro,profissao, on='profissão')"
   ]
  },
  {
   "cell_type": "code",
   "execution_count": 81,
   "metadata": {},
   "outputs": [
    {
     "name": "stdout",
     "output_type": "stream",
     "text": [
      "média salario até 3 anos 3486.21\n"
     ]
    }
   ],
   "source": [
    "print (\"média salario até 3 anos\",\"%.2f\"%cadastro_1.salarioTresAnos.mean())"
   ]
  },
  {
   "cell_type": "code",
   "execution_count": 82,
   "metadata": {},
   "outputs": [
    {
     "name": "stdout",
     "output_type": "stream",
     "text": [
      "média salario maior 3 anos 6103.45\n"
     ]
    }
   ],
   "source": [
    "print (\"média salario maior 3 anos\",\"%.2f\"%cadastro_1.salarioMaiorTresAnos.mean())"
   ]
  }
 ],
 "metadata": {
  "kernelspec": {
   "display_name": "Python 3",
   "language": "python",
   "name": "python3"
  },
  "language_info": {
   "codemirror_mode": {
    "name": "ipython",
    "version": 3
   },
   "file_extension": ".py",
   "mimetype": "text/x-python",
   "name": "python",
   "nbconvert_exporter": "python",
   "pygments_lexer": "ipython3",
   "version": "3.8.3"
  }
 },
 "nbformat": 4,
 "nbformat_minor": 4
}

{
 "cells": [
  {
   "cell_type": "markdown",
   "metadata": {},
   "source": [
    "### Importando Bibliotecas"
   ]
  },
  {
   "cell_type": "code",
   "execution_count": 40,
   "metadata": {},
   "outputs": [],
   "source": [
    "import pandas as pd \n",
    "import numpy as np\n",
    "import seaborn as sns\n",
    "import matplotlib.pyplot as plt\n",
    "\n",
    "\n",
    "import datetime\n",
    "\n",
    "#\n",
    "from collections import Counter\n",
    "import collections\n"
   ]
  },
  {
   "cell_type": "markdown",
   "metadata": {},
   "source": [
    "### Importando bases"
   ]
  },
  {
   "cell_type": "code",
   "execution_count": 5,
   "metadata": {},
   "outputs": [],
   "source": [
    "cadastro = pd.read_excel (\"cadastro - cadastro.xlsx\")\n",
    "combustivel = pd.read_excel (\"preco da gasolina - preco da gasolina.xlsx\")\n",
    "profissao = pd.read_excel (\"salario_profissoes - salario_profissoes.xlsx\")"
   ]
  },
  {
   "cell_type": "markdown",
   "metadata": {},
   "source": [
    "### Preparação da base"
   ]
  },
  {
   "cell_type": "code",
   "execution_count": 10,
   "metadata": {},
   "outputs": [
    {
     "data": {
      "text/plain": [
       "(30, 18)"
      ]
     },
     "execution_count": 10,
     "metadata": {},
     "output_type": "execute_result"
    }
   ],
   "source": [
    "# Tratando váriveis de cadastro\n",
    "cadastro = cadastro.replace(['ensino médio','ensino Médio'],'Ensino Médio').replace(\"ensino superior\",\"Ensino Superior\")\n",
    "cadastro = cadastro.replace(['Solteira'],'Solteiro')\n",
    "cadastro = cadastro.replace(['Casada'],'Casado')\n",
    "cadastro = cadastro.replace(['Divorciada'],'Divorciado')\n",
    "cadastro.rename(columns = {\"experiencia profissional\":\"Exp_Profissional\",\"tem carro\":\"tem_carro\" }, inplace = True)\n",
    "\n",
    "\n",
    "# Tratando váveiaveis de Combustivel\n",
    "combustivel = combustivel.sort_values('cidade', ascending=False)\n",
    "combustivel = combustivel.drop_duplicates('cidade',keep='first')\n",
    "\n",
    "# Tratando váveiaveis de profissão\n",
    "profissao.rename(columns = {\"salario até 3 anos\": \"salarioAte3\",\"salaior +3 anos\":\"salarioMaior3\"}, inplace = True)\n",
    "\n",
    "# Juntando bases (cadastro, combustivel, profissao)\n",
    "Base  = pd.merge(cadastro, profissao, how = 'left', left_on = ['profissão'], right_on = ['Profissões']).merge(combustivel, how = 'inner', left_on = ['cidade'], right_on = ['cidade'])\n",
    "#Base  = pd.merge(cadastro, combustivel, how = 'left', left_on = ['cidade'], right_on = ['cidade'])\n",
    "\n",
    "# Ajustando valores de salario de quem não tem profissão\n",
    "Base['salarioAte3'].fillna(0, inplace=True)\n",
    "Base['salarioMaior3'].fillna(0, inplace=True)\n",
    "\n",
    "# Deletei a coluna Profissões da tabela profissao pois vou utilizar a coluna profissão da tabela cadastro\n",
    "Base = Base.drop(columns = ['Profissões'])\n",
    "\n",
    "Base.shape\n"
   ]
  },
  {
   "cell_type": "markdown",
   "metadata": {},
   "source": [
    "<h5><p style=\"background-color:white; color:blue\"> <b><i>Qual a idade média das pessoas no cadastro? </b> </p></h3>"
   ]
  },
  {
   "cell_type": "code",
   "execution_count": 11,
   "metadata": {},
   "outputs": [
    {
     "name": "stdout",
     "output_type": "stream",
     "text": [
      "A idade média das pessoas do cadastro é 32.73\n"
     ]
    }
   ],
   "source": [
    "# Acrescentado uma coluna com o ano atual apenas para calcudar a idade\n",
    "Base.insert(loc=3,column=\"AnoAtual\",value=2020)\n",
    "Base.insert(loc=4,column=\"Idade\", value = Base.AnoAtual - Base.ano_nascimento)\n",
    "\n",
    "# Retirando a coluna que não preciso mais\n",
    "Base = Base.drop(columns = ['AnoAtual'])\n",
    "\n",
    "# Mostrando resposta\n",
    "print (\"A idade média das pessoas do cadastro é\",\"%.2f\"%Base.Idade.mean())"
   ]
  },
  {
   "cell_type": "markdown",
   "metadata": {},
   "source": [
    "<h5><p style=\"background-color:white; color:blue\"> <b><i>Quantos homens tem no cadastro ? </b> </p></h3>"
   ]
  },
  {
   "cell_type": "code",
   "execution_count": 12,
   "metadata": {},
   "outputs": [
    {
     "name": "stdout",
     "output_type": "stream",
     "text": [
      "A quantidade de homens no cadastro é m    16\n",
      "Name: sexo, dtype: int64\n"
     ]
    }
   ],
   "source": [
    "print(\"A quantidade de homens no cadastro é\" ,Base.sexo.value_counts().filter('m') )"
   ]
  },
  {
   "cell_type": "markdown",
   "metadata": {},
   "source": [
    "<h5><p style=\"background-color:white; color:blue\"> <b><i>Quantas muheres tem no cadastro ? </b> </p></h3>"
   ]
  },
  {
   "cell_type": "code",
   "execution_count": 13,
   "metadata": {},
   "outputs": [
    {
     "name": "stdout",
     "output_type": "stream",
     "text": [
      "A quantidade de mulheres no cadastro é f    14\n",
      "Name: sexo, dtype: int64\n"
     ]
    }
   ],
   "source": [
    "print(\"A quantidade de mulheres no cadastro é\" ,Base.sexo.value_counts().filter('f') )"
   ]
  },
  {
   "cell_type": "markdown",
   "metadata": {},
   "source": [
    "<h5><p style=\"background-color:white; color:blue\"> <b><i>Qual a idade média dos homens e das mulheres ? </b> </p></h3>"
   ]
  },
  {
   "cell_type": "code",
   "execution_count": 14,
   "metadata": {},
   "outputs": [
    {
     "name": "stdout",
     "output_type": "stream",
     "text": [
      "A média da idade de homens é 31.75\n"
     ]
    }
   ],
   "source": [
    "mediaIdadeHomens = Base.query(\"sexo == 'm'\").Idade.mean()\n",
    "print(\"A média da idade de homens é\",\"%.2f\"%mediaIdadeHomens)"
   ]
  },
  {
   "cell_type": "code",
   "execution_count": 15,
   "metadata": {},
   "outputs": [
    {
     "name": "stdout",
     "output_type": "stream",
     "text": [
      "A média da idade de mulheres é 33.86\n"
     ]
    }
   ],
   "source": [
    "mediaIdadeHomens = Base.query(\"sexo == 'f'\").Idade.mean()\n",
    "print(\"A média da idade de mulheres é\",\"%.2f\"%mediaIdadeHomens)"
   ]
  },
  {
   "cell_type": "markdown",
   "metadata": {},
   "source": [
    "<h5><p style=\"background-color:white; color:blue\"> <b><i>Crie um gráfico de barras e mostre a distribuição de escolaridade no cadastro ?</b> </p></h3>"
   ]
  },
  {
   "cell_type": "code",
   "execution_count": 16,
   "metadata": {},
   "outputs": [
    {
     "data": {
      "text/plain": [
       "Text(0.5, 1.0, 'Dest. Escolaridade')"
      ]
     },
     "execution_count": 16,
     "metadata": {},
     "output_type": "execute_result"
    },
    {
     "data": {
      "image/png": "[encoded data removed]",
      "text/plain": [
       "<Figure size 432x288 with 1 Axes>"
      ]
     },
     "metadata": {
      "needs_background": "light"
     },
     "output_type": "display_data"
    }
   ],
   "source": [
    "# Salvando dados do agrupamento da base por escolaridade em um frame\n",
    "QtdEscolaridade = Base.escolaridade.value_counts().to_frame().reset_index()\n",
    "QtdEscolaridade.columns = ['Escolaridade', 'Qtd']\n",
    "\n",
    "# Utilizando o frame para criar um gráfico\n",
    "fig, ax = plt.subplots()   \n",
    "sns.barplot(x=QtdEscolaridade.Escolaridade, y=QtdEscolaridade['Qtd'], ax=ax, data=QtdEscolaridade)\n",
    "ax.set_title(\"Dest. Escolaridade\", fontdict={'fontsize':18})"
   ]
  },
  {
   "cell_type": "markdown",
   "metadata": {},
   "source": [
    "<h5><p style=\"background-color:white; color:blue\"> <b><i>Mostre a Média Salarial do cadastro ?</b> </p></h3>"
   ]
  },
  {
   "cell_type": "code",
   "execution_count": 17,
   "metadata": {},
   "outputs": [
    {
     "name": "stdout",
     "output_type": "stream",
     "text": [
      "Média de salario até 3 anos de experiencia  2688.24\n"
     ]
    }
   ],
   "source": [
    "# Média salario de quem tem de 1 a 3 anos de experiencia\n",
    "Media_1 = Base.loc[(Base['Exp_Profissional'] >0) & (Base['Exp_Profissional'] <4)]\n",
    "print (\"Média de salario até 3 anos de experiencia \",\"%.2f\"%Media_1.salarioAte3.mean())"
   ]
  },
  {
   "cell_type": "code",
   "execution_count": 18,
   "metadata": {},
   "outputs": [
    {
     "name": "stdout",
     "output_type": "stream",
     "text": [
      "Média de salario até 3 anos de experiencia (Incluindo que não tem salário)  2285.00\n"
     ]
    }
   ],
   "source": [
    "# Média salario ate 3 salario (Incluindo que tem 0 salario)\n",
    "Media_2 = Base.loc[Base['Exp_Profissional'] <4]\n",
    "print (\"Média de salario até 3 anos de experiencia (Incluindo que não tem salário) \",\"%.2f\"%Media_2.salarioAte3.mean())"
   ]
  },
  {
   "cell_type": "code",
   "execution_count": 19,
   "metadata": {},
   "outputs": [
    {
     "name": "stdout",
     "output_type": "stream",
     "text": [
      "Média de salario maior que 3 anos de experiencia  8820.00\n"
     ]
    }
   ],
   "source": [
    "# Média salario de quem tem acima de 3 anos de experiencia\n",
    "Media_3 = Base.loc[Base['Exp_Profissional'] >3]\n",
    "print (\"Média de salario maior que 3 anos de experiencia \",\"%.2f\"%Media_3.salarioMaior3.mean())"
   ]
  },
  {
   "cell_type": "markdown",
   "metadata": {},
   "source": [
    "<h5><p style=\"background-color:white; color:blue\"> <b><i>Quem tem o maior salário?</b> </p></h3>"
   ]
  },
  {
   "cell_type": "code",
   "execution_count": 20,
   "metadata": {},
   "outputs": [
    {
     "name": "stdout",
     "output_type": "stream",
     "text": [
      "Considerado pessoas com menos de 4 anos de experiencia temos empate de maiores salarios do        nome\n",
      "5   Dirceu\n",
      "9     João\n",
      "24  Sidney\n"
     ]
    }
   ],
   "source": [
    "Max1 = Base.loc[Base['Exp_Profissional'] <4]\n",
    "print('Considerado pessoas com menos de 4 anos de experiencia temos empate de maiores salarios do ', Max1.loc[(Max1['salarioAte3']==max(Max1.salarioAte3)),['nome']])\n"
   ]
  },
  {
   "cell_type": "code",
   "execution_count": 21,
   "metadata": {},
   "outputs": [
    {
     "name": "stdout",
     "output_type": "stream",
     "text": [
      "Considerado pessoas com mais de tres anos de experiencia o maior salario é da        nome\n",
      "16  Mirtes\n"
     ]
    }
   ],
   "source": [
    "Max2 = Base.loc[Base['Exp_Profissional'] >3]\n",
    "print('Considerado pessoas com mais de tres anos de experiencia o maior salario é da ', Max2.loc[(Max2['salarioMaior3']==max(Max2.salarioMaior3)),['nome']])"
   ]
  },
  {
   "cell_type": "markdown",
   "metadata": {},
   "source": [
    "<h5><p style=\"background-color:white; color:blue\"> <b><i>Tirando desempregado quem recebe menos?</b> </p></h3>"
   ]
  },
  {
   "cell_type": "code",
   "execution_count": 22,
   "metadata": {},
   "outputs": [
    {
     "name": "stdout",
     "output_type": "stream",
     "text": [
      "Desconsiderando desempregados temos um empate de menor salarios        nome\n",
      "13  Marcela\n",
      "17   Camila\n",
      "22  Gabriel\n"
     ]
    }
   ],
   "source": [
    "Minimo1 = Base.loc[Base['profissão'] != 'desempregado']\n",
    "print('Desconsiderando desempregados temos um empate de menor salarios', Minimo1.loc[(Minimo1['salarioAte3']==min(Minimo1.salarioAte3)),['nome']])"
   ]
  },
  {
   "cell_type": "code",
   "execution_count": 23,
   "metadata": {},
   "outputs": [
    {
     "name": "stdout",
     "output_type": "stream",
     "text": [
      "Desconsiderando salarios igual a o menor salario é da       nome\n",
      "11  Vilma\n"
     ]
    }
   ],
   "source": [
    "Minimo2 = Base.loc[Base['salarioAte3'] !=0]\n",
    "print('Desconsiderando salarios igual a o menor salario é da ', Minimo2.loc[(Minimo2['salarioAte3']==min(Minimo2.salarioAte3)),['nome']])"
   ]
  },
  {
   "cell_type": "markdown",
   "metadata": {},
   "source": [
    "<h5><p style=\"background-color:white; color:blue\"> <b><i>Quantas pessoas gostam de caminhar no final de semana ?</b> </p></h3>"
   ]
  },
  {
   "cell_type": "code",
   "execution_count": 26,
   "metadata": {},
   "outputs": [
    {
     "data": {
      "text/html": [
       "<div>\n",
       "<style scoped>\n",
       "    .dataframe tbody tr th:only-of-type {\n",
       "        vertical-align: middle;\n",
       "    }\n",
       "\n",
       "    .dataframe tbody tr th {\n",
       "        vertical-align: top;\n",
       "    }\n",
       "\n",
       "    .dataframe thead th {\n",
       "        text-align: right;\n",
       "    }\n",
       "</style>\n",
       "<table border=\"1\" class=\"dataframe\">\n",
       "  <thead>\n",
       "    <tr style=\"text-align: right;\">\n",
       "      <th></th>\n",
       "      <th>nome</th>\n",
       "      <th>sobrenome</th>\n",
       "      <th>ano_nascimento</th>\n",
       "      <th>Idade</th>\n",
       "      <th>sexo</th>\n",
       "      <th>cidade</th>\n",
       "      <th>profissão</th>\n",
       "      <th>Exp_Profissional</th>\n",
       "      <th>estado_civil</th>\n",
       "      <th>filhos</th>\n",
       "      <th>lazer_final_de_semana</th>\n",
       "      <th>pratica_esporte</th>\n",
       "      <th>qual_esporte</th>\n",
       "      <th>quanta_vezes_na_semana_pratica_esporte</th>\n",
       "      <th>tem_carro</th>\n",
       "      <th>escolaridade</th>\n",
       "      <th>salarioAte3</th>\n",
       "      <th>salarioMaior3</th>\n",
       "      <th>preço</th>\n",
       "    </tr>\n",
       "  </thead>\n",
       "  <tbody>\n",
       "    <tr>\n",
       "      <th>0</th>\n",
       "      <td>Dirceu</td>\n",
       "      <td>Manolo</td>\n",
       "      <td>1985</td>\n",
       "      <td>35</td>\n",
       "      <td>m</td>\n",
       "      <td>São Vicente</td>\n",
       "      <td>Cientista de Dados</td>\n",
       "      <td>4</td>\n",
       "      <td>Casado</td>\n",
       "      <td>1</td>\n",
       "      <td>estudar, academia, jogar video game,surfar</td>\n",
       "      <td>sim</td>\n",
       "      <td>academia</td>\n",
       "      <td>3.0</td>\n",
       "      <td>sim</td>\n",
       "      <td>Ensino Superior</td>\n",
       "      <td>10000.0</td>\n",
       "      <td>14000.0</td>\n",
       "      <td>3.45</td>\n",
       "    </tr>\n",
       "    <tr>\n",
       "      <th>1</th>\n",
       "      <td>Maria</td>\n",
       "      <td>Silva</td>\n",
       "      <td>1970</td>\n",
       "      <td>50</td>\n",
       "      <td>f</td>\n",
       "      <td>Santos</td>\n",
       "      <td>dona de casa</td>\n",
       "      <td>2</td>\n",
       "      <td>Casado</td>\n",
       "      <td>3</td>\n",
       "      <td>ver tv</td>\n",
       "      <td>não</td>\n",
       "      <td>-</td>\n",
       "      <td>0.0</td>\n",
       "      <td>não</td>\n",
       "      <td>Ensino Médio</td>\n",
       "      <td>1200.0</td>\n",
       "      <td>1200.0</td>\n",
       "      <td>3.33</td>\n",
       "    </tr>\n",
       "    <tr>\n",
       "      <th>2</th>\n",
       "      <td>Adalberto</td>\n",
       "      <td>Martins</td>\n",
       "      <td>1990</td>\n",
       "      <td>30</td>\n",
       "      <td>m</td>\n",
       "      <td>São Paulo</td>\n",
       "      <td>desempregado</td>\n",
       "      <td>0</td>\n",
       "      <td>Solteiro</td>\n",
       "      <td>1</td>\n",
       "      <td>jogar bola</td>\n",
       "      <td>sim</td>\n",
       "      <td>jogo bola</td>\n",
       "      <td>2.0</td>\n",
       "      <td>sim</td>\n",
       "      <td>Ensino Superior</td>\n",
       "      <td>0.0</td>\n",
       "      <td>0.0</td>\n",
       "      <td>3.23</td>\n",
       "    </tr>\n",
       "    <tr>\n",
       "      <th>3</th>\n",
       "      <td>Joao</td>\n",
       "      <td>Victor</td>\n",
       "      <td>2001</td>\n",
       "      <td>19</td>\n",
       "      <td>m</td>\n",
       "      <td>São Paulo</td>\n",
       "      <td>estagiario</td>\n",
       "      <td>2</td>\n",
       "      <td>Solteiro</td>\n",
       "      <td>0</td>\n",
       "      <td>só jogo bola</td>\n",
       "      <td>sim</td>\n",
       "      <td>jogo bola</td>\n",
       "      <td>1.0</td>\n",
       "      <td>não</td>\n",
       "      <td>Ensino Superior</td>\n",
       "      <td>1400.0</td>\n",
       "      <td>1400.0</td>\n",
       "      <td>3.23</td>\n",
       "    </tr>\n",
       "    <tr>\n",
       "      <th>4</th>\n",
       "      <td>Dirce</td>\n",
       "      <td>Nogueira</td>\n",
       "      <td>1967</td>\n",
       "      <td>53</td>\n",
       "      <td>f</td>\n",
       "      <td>São Paulo</td>\n",
       "      <td>Autonoma</td>\n",
       "      <td>9</td>\n",
       "      <td>Casado</td>\n",
       "      <td>5</td>\n",
       "      <td>fico com meus filhos, durante a semana não ten...</td>\n",
       "      <td>não</td>\n",
       "      <td>-</td>\n",
       "      <td>0.0</td>\n",
       "      <td>sim</td>\n",
       "      <td>Ensino Superior</td>\n",
       "      <td>7000.0</td>\n",
       "      <td>9000.0</td>\n",
       "      <td>3.23</td>\n",
       "    </tr>\n",
       "  </tbody>\n",
       "</table>\n",
       "</div>"
      ],
      "text/plain": [
       "        nome sobrenome  ano_nascimento  Idade sexo       cidade  \\\n",
       "0     Dirceu    Manolo            1985     35    m  São Vicente   \n",
       "1      Maria     Silva            1970     50    f       Santos   \n",
       "2  Adalberto   Martins            1990     30    m    São Paulo   \n",
       "3       Joao    Victor            2001     19    m    São Paulo   \n",
       "4      Dirce  Nogueira            1967     53    f    São Paulo   \n",
       "\n",
       "            profissão  Exp_Profissional estado_civil  filhos  \\\n",
       "0  Cientista de Dados                 4       Casado       1   \n",
       "1        dona de casa                 2       Casado       3   \n",
       "2        desempregado                 0     Solteiro       1   \n",
       "3          estagiario                 2     Solteiro       0   \n",
       "4            Autonoma                 9       Casado       5   \n",
       "\n",
       "                               lazer_final_de_semana pratica_esporte  \\\n",
       "0         estudar, academia, jogar video game,surfar             sim   \n",
       "1                                             ver tv             não   \n",
       "2                                         jogar bola             sim   \n",
       "3                                       só jogo bola             sim   \n",
       "4  fico com meus filhos, durante a semana não ten...             não   \n",
       "\n",
       "  qual_esporte  quanta_vezes_na_semana_pratica_esporte tem_carro  \\\n",
       "0     academia                                     3.0       sim   \n",
       "1            -                                     0.0       não   \n",
       "2    jogo bola                                     2.0       sim   \n",
       "3    jogo bola                                     1.0       não   \n",
       "4            -                                     0.0       sim   \n",
       "\n",
       "      escolaridade  salarioAte3  salarioMaior3  preço  \n",
       "0  Ensino Superior      10000.0        14000.0   3.45  \n",
       "1     Ensino Médio       1200.0         1200.0   3.33  \n",
       "2  Ensino Superior          0.0            0.0   3.23  \n",
       "3  Ensino Superior       1400.0         1400.0   3.23  \n",
       "4  Ensino Superior       7000.0         9000.0   3.23  "
      ]
     },
     "execution_count": 26,
     "metadata": {},
     "output_type": "execute_result"
    }
   ],
   "source": [
    "Base.head()"
   ]
  },
  {
   "cell_type": "code",
   "execution_count": 35,
   "metadata": {},
   "outputs": [],
   "source": [
    "#gostam de caminhar no final de semana\n",
    "Caminhada = dict(Counter(Base.lazer_final_de_semana.str.contains('caminhar')))"
   ]
  },
  {
   "cell_type": "code",
   "execution_count": 43,
   "metadata": {},
   "outputs": [
    {
     "data": {
      "text/html": [
       "<div>\n",
       "<style scoped>\n",
       "    .dataframe tbody tr th:only-of-type {\n",
       "        vertical-align: middle;\n",
       "    }\n",
       "\n",
       "    .dataframe tbody tr th {\n",
       "        vertical-align: top;\n",
       "    }\n",
       "\n",
       "    .dataframe thead th {\n",
       "        text-align: right;\n",
       "    }\n",
       "</style>\n",
       "<table border=\"1\" class=\"dataframe\">\n",
       "  <thead>\n",
       "    <tr style=\"text-align: right;\">\n",
       "      <th></th>\n",
       "      <th>nome</th>\n",
       "      <th>sobrenome</th>\n",
       "      <th>ano_nascimento</th>\n",
       "      <th>Idade</th>\n",
       "      <th>sexo</th>\n",
       "      <th>cidade</th>\n",
       "      <th>profissão</th>\n",
       "      <th>Exp_Profissional</th>\n",
       "      <th>estado_civil</th>\n",
       "      <th>filhos</th>\n",
       "      <th>lazer_final_de_semana</th>\n",
       "      <th>pratica_esporte</th>\n",
       "      <th>qual_esporte</th>\n",
       "      <th>quanta_vezes_na_semana_pratica_esporte</th>\n",
       "      <th>tem_carro</th>\n",
       "      <th>escolaridade</th>\n",
       "      <th>salarioAte3</th>\n",
       "      <th>salarioMaior3</th>\n",
       "      <th>preço</th>\n",
       "    </tr>\n",
       "  </thead>\n",
       "  <tbody>\n",
       "    <tr>\n",
       "      <th>0</th>\n",
       "      <td>Dirceu</td>\n",
       "      <td>Manolo</td>\n",
       "      <td>1985</td>\n",
       "      <td>35</td>\n",
       "      <td>m</td>\n",
       "      <td>São Vicente</td>\n",
       "      <td>Cientista de Dados</td>\n",
       "      <td>4</td>\n",
       "      <td>Casado</td>\n",
       "      <td>1</td>\n",
       "      <td>estudar, academia, jogar video game,surfar</td>\n",
       "      <td>sim</td>\n",
       "      <td>academia</td>\n",
       "      <td>3.0</td>\n",
       "      <td>sim</td>\n",
       "      <td>Ensino Superior</td>\n",
       "      <td>10000.0</td>\n",
       "      <td>14000.0</td>\n",
       "      <td>3.45</td>\n",
       "    </tr>\n",
       "    <tr>\n",
       "      <th>1</th>\n",
       "      <td>Maria</td>\n",
       "      <td>Silva</td>\n",
       "      <td>1970</td>\n",
       "      <td>50</td>\n",
       "      <td>f</td>\n",
       "      <td>Santos</td>\n",
       "      <td>dona de casa</td>\n",
       "      <td>2</td>\n",
       "      <td>Casado</td>\n",
       "      <td>3</td>\n",
       "      <td>ver tv</td>\n",
       "      <td>não</td>\n",
       "      <td>-</td>\n",
       "      <td>0.0</td>\n",
       "      <td>não</td>\n",
       "      <td>Ensino Médio</td>\n",
       "      <td>1200.0</td>\n",
       "      <td>1200.0</td>\n",
       "      <td>3.33</td>\n",
       "    </tr>\n",
       "    <tr>\n",
       "      <th>2</th>\n",
       "      <td>Adalberto</td>\n",
       "      <td>Martins</td>\n",
       "      <td>1990</td>\n",
       "      <td>30</td>\n",
       "      <td>m</td>\n",
       "      <td>São Paulo</td>\n",
       "      <td>desempregado</td>\n",
       "      <td>0</td>\n",
       "      <td>Solteiro</td>\n",
       "      <td>1</td>\n",
       "      <td>jogar bola</td>\n",
       "      <td>sim</td>\n",
       "      <td>jogo bola</td>\n",
       "      <td>2.0</td>\n",
       "      <td>sim</td>\n",
       "      <td>Ensino Superior</td>\n",
       "      <td>0.0</td>\n",
       "      <td>0.0</td>\n",
       "      <td>3.23</td>\n",
       "    </tr>\n",
       "    <tr>\n",
       "      <th>3</th>\n",
       "      <td>Joao</td>\n",
       "      <td>Victor</td>\n",
       "      <td>2001</td>\n",
       "      <td>19</td>\n",
       "      <td>m</td>\n",
       "      <td>São Paulo</td>\n",
       "      <td>estagiario</td>\n",
       "      <td>2</td>\n",
       "      <td>Solteiro</td>\n",
       "      <td>0</td>\n",
       "      <td>só jogo bola</td>\n",
       "      <td>sim</td>\n",
       "      <td>jogo bola</td>\n",
       "      <td>1.0</td>\n",
       "      <td>não</td>\n",
       "      <td>Ensino Superior</td>\n",
       "      <td>1400.0</td>\n",
       "      <td>1400.0</td>\n",
       "      <td>3.23</td>\n",
       "    </tr>\n",
       "    <tr>\n",
       "      <th>4</th>\n",
       "      <td>Dirce</td>\n",
       "      <td>Nogueira</td>\n",
       "      <td>1967</td>\n",
       "      <td>53</td>\n",
       "      <td>f</td>\n",
       "      <td>São Paulo</td>\n",
       "      <td>Autonoma</td>\n",
       "      <td>9</td>\n",
       "      <td>Casado</td>\n",
       "      <td>5</td>\n",
       "      <td>fico com meus filhos, durante a semana não ten...</td>\n",
       "      <td>não</td>\n",
       "      <td>-</td>\n",
       "      <td>0.0</td>\n",
       "      <td>sim</td>\n",
       "      <td>Ensino Superior</td>\n",
       "      <td>7000.0</td>\n",
       "      <td>9000.0</td>\n",
       "      <td>3.23</td>\n",
       "    </tr>\n",
       "  </tbody>\n",
       "</table>\n",
       "</div>"
      ],
      "text/plain": [
       "        nome sobrenome  ano_nascimento  Idade sexo       cidade  \\\n",
       "0     Dirceu    Manolo            1985     35    m  São Vicente   \n",
       "1      Maria     Silva            1970     50    f       Santos   \n",
       "2  Adalberto   Martins            1990     30    m    São Paulo   \n",
       "3       Joao    Victor            2001     19    m    São Paulo   \n",
       "4      Dirce  Nogueira            1967     53    f    São Paulo   \n",
       "\n",
       "            profissão  Exp_Profissional estado_civil  filhos  \\\n",
       "0  Cientista de Dados                 4       Casado       1   \n",
       "1        dona de casa                 2       Casado       3   \n",
       "2        desempregado                 0     Solteiro       1   \n",
       "3          estagiario                 2     Solteiro       0   \n",
       "4            Autonoma                 9       Casado       5   \n",
       "\n",
       "                               lazer_final_de_semana pratica_esporte  \\\n",
       "0         estudar, academia, jogar video game,surfar             sim   \n",
       "1                                             ver tv             não   \n",
       "2                                         jogar bola             sim   \n",
       "3                                       só jogo bola             sim   \n",
       "4  fico com meus filhos, durante a semana não ten...             não   \n",
       "\n",
       "  qual_esporte  quanta_vezes_na_semana_pratica_esporte tem_carro  \\\n",
       "0     academia                                     3.0       sim   \n",
       "1            -                                     0.0       não   \n",
       "2    jogo bola                                     2.0       sim   \n",
       "3    jogo bola                                     1.0       não   \n",
       "4            -                                     0.0       sim   \n",
       "\n",
       "      escolaridade  salarioAte3  salarioMaior3  preço  \n",
       "0  Ensino Superior      10000.0        14000.0   3.45  \n",
       "1     Ensino Médio       1200.0         1200.0   3.33  \n",
       "2  Ensino Superior          0.0            0.0   3.23  \n",
       "3  Ensino Superior       1400.0         1400.0   3.23  \n",
       "4  Ensino Superior       7000.0         9000.0   3.23  "
      ]
     },
     "execution_count": 43,
     "metadata": {},
     "output_type": "execute_result"
    }
   ],
   "source": [
    "Base.head()"
   ]
  },
  {
   "cell_type": "code",
   "execution_count": 41,
   "metadata": {},
   "outputs": [
    {
     "ename": "KeyError",
     "evalue": "'Pessoa'",
     "output_type": "error",
     "traceback": [
      "\u001b[1;31m---------------------------------------------------------------------------\u001b[0m",
      "\u001b[1;31mKeyError\u001b[0m                                  Traceback (most recent call last)",
      "\u001b[1;32m<ipython-input-41-ba95706a3232>\u001b[0m in \u001b[0;36m<module>\u001b[1;34m\u001b[0m\n\u001b[1;32m----> 1\u001b[1;33m \u001b[0mdd\u001b[0m \u001b[1;33m=\u001b[0m \u001b[0mBase\u001b[0m\u001b[1;33m.\u001b[0m\u001b[0mgroupby\u001b[0m\u001b[1;33m(\u001b[0m\u001b[0mby\u001b[0m\u001b[1;33m=\u001b[0m\u001b[1;34m'Pessoa'\u001b[0m\u001b[1;33m)\u001b[0m\u001b[1;33m.\u001b[0m\u001b[0msum\u001b[0m\u001b[1;33m(\u001b[0m\u001b[1;33m)\u001b[0m\u001b[1;33m\u001b[0m\u001b[1;33m\u001b[0m\u001b[0m\n\u001b[0m",
      "\u001b[1;32m~\\anaconda3\\lib\\site-packages\\pandas\\core\\frame.py\u001b[0m in \u001b[0;36mgroupby\u001b[1;34m(self, by, axis, level, as_index, sort, group_keys, squeeze, observed)\u001b[0m\n\u001b[0;32m   5799\u001b[0m         \u001b[0maxis\u001b[0m \u001b[1;33m=\u001b[0m \u001b[0mself\u001b[0m\u001b[1;33m.\u001b[0m\u001b[0m_get_axis_number\u001b[0m\u001b[1;33m(\u001b[0m\u001b[0maxis\u001b[0m\u001b[1;33m)\u001b[0m\u001b[1;33m\u001b[0m\u001b[1;33m\u001b[0m\u001b[0m\n\u001b[0;32m   5800\u001b[0m \u001b[1;33m\u001b[0m\u001b[0m\n\u001b[1;32m-> 5801\u001b[1;33m         return groupby_generic.DataFrameGroupBy(\n\u001b[0m\u001b[0;32m   5802\u001b[0m             \u001b[0mobj\u001b[0m\u001b[1;33m=\u001b[0m\u001b[0mself\u001b[0m\u001b[1;33m,\u001b[0m\u001b[1;33m\u001b[0m\u001b[1;33m\u001b[0m\u001b[0m\n\u001b[0;32m   5803\u001b[0m             \u001b[0mkeys\u001b[0m\u001b[1;33m=\u001b[0m\u001b[0mby\u001b[0m\u001b[1;33m,\u001b[0m\u001b[1;33m\u001b[0m\u001b[1;33m\u001b[0m\u001b[0m\n",
      "\u001b[1;32m~\\anaconda3\\lib\\site-packages\\pandas\\core\\groupby\\groupby.py\u001b[0m in \u001b[0;36m__init__\u001b[1;34m(self, obj, keys, axis, level, grouper, exclusions, selection, as_index, sort, group_keys, squeeze, observed, mutated)\u001b[0m\n\u001b[0;32m    401\u001b[0m             \u001b[1;32mfrom\u001b[0m \u001b[0mpandas\u001b[0m\u001b[1;33m.\u001b[0m\u001b[0mcore\u001b[0m\u001b[1;33m.\u001b[0m\u001b[0mgroupby\u001b[0m\u001b[1;33m.\u001b[0m\u001b[0mgrouper\u001b[0m \u001b[1;32mimport\u001b[0m \u001b[0mget_grouper\u001b[0m\u001b[1;33m\u001b[0m\u001b[1;33m\u001b[0m\u001b[0m\n\u001b[0;32m    402\u001b[0m \u001b[1;33m\u001b[0m\u001b[0m\n\u001b[1;32m--> 403\u001b[1;33m             grouper, exclusions, obj = get_grouper(\n\u001b[0m\u001b[0;32m    404\u001b[0m                 \u001b[0mobj\u001b[0m\u001b[1;33m,\u001b[0m\u001b[1;33m\u001b[0m\u001b[1;33m\u001b[0m\u001b[0m\n\u001b[0;32m    405\u001b[0m                 \u001b[0mkeys\u001b[0m\u001b[1;33m,\u001b[0m\u001b[1;33m\u001b[0m\u001b[1;33m\u001b[0m\u001b[0m\n",
      "\u001b[1;32m~\\anaconda3\\lib\\site-packages\\pandas\\core\\groupby\\grouper.py\u001b[0m in \u001b[0;36mget_grouper\u001b[1;34m(obj, key, axis, level, sort, observed, mutated, validate)\u001b[0m\n\u001b[0;32m    598\u001b[0m                 \u001b[0min_axis\u001b[0m\u001b[1;33m,\u001b[0m \u001b[0mname\u001b[0m\u001b[1;33m,\u001b[0m \u001b[0mlevel\u001b[0m\u001b[1;33m,\u001b[0m \u001b[0mgpr\u001b[0m \u001b[1;33m=\u001b[0m \u001b[1;32mFalse\u001b[0m\u001b[1;33m,\u001b[0m \u001b[1;32mNone\u001b[0m\u001b[1;33m,\u001b[0m \u001b[0mgpr\u001b[0m\u001b[1;33m,\u001b[0m \u001b[1;32mNone\u001b[0m\u001b[1;33m\u001b[0m\u001b[1;33m\u001b[0m\u001b[0m\n\u001b[0;32m    599\u001b[0m             \u001b[1;32melse\u001b[0m\u001b[1;33m:\u001b[0m\u001b[1;33m\u001b[0m\u001b[1;33m\u001b[0m\u001b[0m\n\u001b[1;32m--> 600\u001b[1;33m                 \u001b[1;32mraise\u001b[0m \u001b[0mKeyError\u001b[0m\u001b[1;33m(\u001b[0m\u001b[0mgpr\u001b[0m\u001b[1;33m)\u001b[0m\u001b[1;33m\u001b[0m\u001b[1;33m\u001b[0m\u001b[0m\n\u001b[0m\u001b[0;32m    601\u001b[0m         \u001b[1;32melif\u001b[0m \u001b[0misinstance\u001b[0m\u001b[1;33m(\u001b[0m\u001b[0mgpr\u001b[0m\u001b[1;33m,\u001b[0m \u001b[0mGrouper\u001b[0m\u001b[1;33m)\u001b[0m \u001b[1;32mand\u001b[0m \u001b[0mgpr\u001b[0m\u001b[1;33m.\u001b[0m\u001b[0mkey\u001b[0m \u001b[1;32mis\u001b[0m \u001b[1;32mnot\u001b[0m \u001b[1;32mNone\u001b[0m\u001b[1;33m:\u001b[0m\u001b[1;33m\u001b[0m\u001b[1;33m\u001b[0m\u001b[0m\n\u001b[0;32m    602\u001b[0m             \u001b[1;31m# Add key to exclusions\u001b[0m\u001b[1;33m\u001b[0m\u001b[1;33m\u001b[0m\u001b[1;33m\u001b[0m\u001b[0m\n",
      "\u001b[1;31mKeyError\u001b[0m: 'Pessoa'"
     ]
    }
   ],
   "source": [
    "dd = Base.groupby(by='Pessoa').sum()\n"
   ]
  },
  {
   "cell_type": "markdown",
   "metadata": {},
   "source": [
    "<h5><p style=\"background-color:white; color:blue\"> <b><i>Crie um gráfico mostrando entre a relação de escolaridade e quem pratica esporte?</b> </p></h3>"
   ]
  },
  {
   "cell_type": "markdown",
   "metadata": {},
   "source": [
    "<h5><p style=\"background-color:white; color:blue\"> <b><i>Crie um mapa de calor ?</b> </p></h3>"
   ]
  },
  {
   "cell_type": "markdown",
   "metadata": {},
   "source": [
    "<h5><p style=\"background-color:white; color:blue\"> <b><i>Mostre de forma gráfica a distribuição de estados do cadastro ?</b> </p></h3>"
   ]
  },
  {
   "cell_type": "code",
   "execution_count": 94,
   "metadata": {},
   "outputs": [
    {
     "data": {
      "image/png": "[encoded data removed]",
      "text/plain": [
       "<Figure size 1728x288 with 1 Axes>"
      ]
     },
     "metadata": {
      "needs_background": "light"
     },
     "output_type": "display_data"
    }
   ],
   "source": [
    "# Salvando dados do agrupamento da base por Estado em um frame\n",
    "QtdEstado = Base.cidade.value_counts().to_frame().reset_index()\n",
    "QtdEstado.columns = ['Estado', 'Qtd']\n",
    "\n",
    "# Utilizando o frame para criar um gráfico\n",
    "fig, ax = plt.subplots(figsize=(24,4))\n",
    "sns.barplot(x=QtdEstado.Estado, y=QtdEstado['Qtd'], ax=ax, data=QtdEstado)\n",
    "ax.set_xlabel('Estado', fontdict={'fontsize':20})\n",
    "ax.set_ylabel('Qtd', fontdict={'fontsize':20})\n",
    "ax.tick_params(labelsize=10)\n",
    "ax.set_title(\"Dest. Estado\", fontdict={'fontsize':30})\n",
    "fig.tight_layout();"
   ]
  }
 ],
 "metadata": {
  "kernelspec": {
   "display_name": "Python 3",
   "language": "python",
   "name": "python3"
  },
  "language_info": {
   "codemirror_mode": {
    "name": "ipython",
    "version": 3
   },
   "file_extension": ".py",
   "mimetype": "text/x-python",
   "name": "python",
   "nbconvert_exporter": "python",
   "pygments_lexer": "ipython3",
   "version": "3.8.3"
  }
 },
 "nbformat": 4,
 "nbformat_minor": 4
}

{
 "cells": [
  {
   "cell_type": "markdown",
   "metadata": {},
   "source": [
    "### Importando Bibliotecas"
   ]
  },
  {
   "cell_type": "code",
   "execution_count": 40,
   "metadata": {},
   "outputs": [],
   "source": [
    "import pandas as pd \n",
    "import numpy as np\n",
    "import seaborn as sns\n",
    "import matplotlib.pyplot as plt\n",
    "\n",
    "\n",
    "import datetime\n",
    "\n",
    "#\n",
    "from collections import Counter\n",
    "import collections\n"
   ]
  },
  {
   "cell_type": "markdown",
   "metadata": {},
   "source": [
    "### Importando bases"
   ]
  },
  {
   "cell_type": "code",
   "execution_count": 5,
   "metadata": {},
   "outputs": [],
   "source": [
    "cadastro = pd.read_excel (\"cadastro - cadastro.xlsx\")\n",
    "combustivel = pd.read_excel (\"preco da gasolina - preco da gasolina.xlsx\")\n",
    "profissao = pd.read_excel (\"salario_profissoes - salario_profissoes.xlsx\")"
   ]
  },
  {
   "cell_type": "markdown",
   "metadata": {},
   "source": [
    "### Preparação da base"
   ]
  },
  {
   "cell_type": "code",
   "execution_count": 10,
   "metadata": {},
   "outputs": [
    {
     "data": {
      "text/plain": [
       "(30, 18)"
      ]
     },
     "execution_count": 10,
     "metadata": {},
     "output_type": "execute_result"
    }
   ],
   "source": [
    "# Tratando váriveis de cadastro\n",
    "cadastro = cadastro.replace(['ensino médio','ensino Médio'],'Ensino Médio').replace(\"ensino superior\",\"Ensino Superior\")\n",
    "cadastro = cadastro.replace(['Solteira'],'Solteiro')\n",
    "cadastro = cadastro.replace(['Casada'],'Casado')\n",
    "cadastro = cadastro.replace(['Divorciada'],'Divorciado')\n",
    "cadastro.rename(columns = {\"experiencia profissional\":\"Exp_Profissional\",\"tem carro\":\"tem_carro\" }, inplace = True)\n",
    "\n",
    "\n",
    "# Tratando váveiaveis de Combustivel\n",
    "combustivel = combustivel.sort_values('cidade', ascending=False)\n",
    "combustivel = combustivel.drop_duplicates('cidade',keep='first')\n",
    "\n",
    "# Tratando váveiaveis de profissão\n",
    "profissao.rename(columns = {\"salario até 3 anos\": \"salarioAte3\",\"salaior +3 anos\":\"salarioMaior3\"}, inplace = True)\n",
    "\n",
    "# Juntando bases (cadastro, combustivel, profissao)\n",
    "Base  = pd.merge(cadastro, profissao, how = 'left', left_on = ['profissão'], right_on = ['Profissões']).merge(combustivel, how = 'inner', left_on = ['cidade'], right_on = ['cidade'])\n",
    "#Base  = pd.merge(cadastro, combustivel, how = 'left', left_on = ['cidade'], right_on = ['cidade'])\n",
    "\n",
    "# Ajustando valores de salario de quem não tem profissão\n",
    "Base['salarioAte3'].fillna(0, inplace=True)\n",
    "Base['salarioMaior3'].fillna(0, inplace=True)\n",
    "\n",
    "# Deletei a coluna Profissões da tabela profissao pois vou utilizar a coluna profissão da tabela cadastro\n",
    "Base = Base.drop(columns = ['Profissões'])\n",
    "\n",
    "Base.shape\n"
   ]
  },
  {
   "cell_type": "markdown",
   "metadata": {},
   "source": [
    "<h5><p style=\"background-color:white; color:blue\"> <b><i>Qual a idade média das pessoas no cadastro? </b> </p></h3>"
   ]
  },
  {
   "cell_type": "code",
   "execution_count": 11,
   "metadata": {},
   "outputs": [
    {
     "name": "stdout",
     "output_type": "stream",
     "text": [
      "A idade média das pessoas do cadastro é 32.73\n"
     ]
    }
   ],
   "source": [
    "# Acrescentado uma coluna com o ano atual apenas para calcudar a idade\n",
    "Base.insert(loc=3,column=\"AnoAtual\",value=2020)\n",
    "Base.insert(loc=4,column=\"Idade\", value = Base.AnoAtual - Base.ano_nascimento)\n",
    "\n",
    "# Retirando a coluna que não preciso mais\n",
    "Base = Base.drop(columns = ['AnoAtual'])\n",
    "\n",
    "# Mostrando resposta\n",
    "print (\"A idade média das pessoas do cadastro é\",\"%.2f\"%Base.Idade.mean())"
   ]
  },
  {
   "cell_type": "markdown",
   "metadata": {},
   "source": [
    "<h5><p style=\"background-color:white; color:blue\"> <b><i>Quantos homens tem no cadastro ? </b> </p></h3>"
   ]
  },
  {
   "cell_type": "code",
   "execution_count": 12,
   "metadata": {},
   "outputs": [
    {
     "name": "stdout",
     "output_type": "stream",
     "text": [
      "A quantidade de homens no cadastro é m    16\n",
      "Name: sexo, dtype: int64\n"
     ]
    }
   ],
   "source": [
    "print(\"A quantidade de homens no cadastro é\" ,Base.sexo.value_counts().filter('m') )"
   ]
  },
  {
   "cell_type": "markdown",
   "metadata": {},
   "source": [
    "<h5><p style=\"background-color:white; color:blue\"> <b><i>Quantas muheres tem no cadastro ? </b> </p></h3>"
   ]
  },
  {
   "cell_type": "code",
   "execution_count": 13,
   "metadata": {},
   "outputs": [
    {
     "name": "stdout",
     "output_type": "stream",
     "text": [
      "A quantidade de mulheres no cadastro é f    14\n",
      "Name: sexo, dtype: int64\n"
     ]
    }
   ],
   "source": [
    "print(\"A quantidade de mulheres no cadastro é\" ,Base.sexo.value_counts().filter('f') )"
   ]
  },
  {
   "cell_type": "markdown",
   "metadata": {},
   "source": [
    "<h5><p style=\"background-color:white; color:blue\"> <b><i>Qual a idade média dos homens e das mulheres ? </b> </p></h3>"
   ]
  },
  {
   "cell_type": "code",
   "execution_count": 14,
   "metadata": {},
   "outputs": [
    {
     "name": "stdout",
     "output_type": "stream",
     "text": [
      "A média da idade de homens é 31.75\n"
     ]
    }
   ],
   "source": [
    "mediaIdadeHomens = Base.query(\"sexo == 'm'\").Idade.mean()\n",
    "print(\"A média da idade de homens é\",\"%.2f\"%mediaIdadeHomens)"
   ]
  },
  {
   "cell_type": "code",
   "execution_count": 15,
   "metadata": {},
   "outputs": [
    {
     "name": "stdout",
     "output_type": "stream",
     "text": [
      "A média da idade de mulheres é 33.86\n"
     ]
    }
   ],
   "source": [
    "mediaIdadeHomens = Base.query(\"sexo == 'f'\").Idade.mean()\n",
    "print(\"A média da idade de mulheres é\",\"%.2f\"%mediaIdadeHomens)"
   ]
  },
  {
   "cell_type": "markdown",
   "metadata": {},
   "source": [
    "<h5><p style=\"background-color:white; color:blue\"> <b><i>Crie um gráfico de barras e mostre a distribuição de escolaridade no cadastro ?</b> </p></h3>"
   ]
  },
  {
   "cell_type": "code",
   "execution_count": 16,
   "metadata": {},
   "outputs": [
    {
     "data": {
      "text/plain": [
       "Text(0.5, 1.0, 'Dest. Escolaridade')"
      ]
     },
     "execution_count": 16,
     "metadata": {},
     "output_type": "execute_result"
    },
    {
     "data": {
      "image/png": "[encoded data removed]",
      "text/plain": [
       "<Figure size 432x288 with 1 Axes>"
      ]
     },
     "metadata": {
      "needs_background": "light"
     },
     "output_type": "display_data"
    }
   ],
   "source": [
    "# Salvando dados do agrupamento da base por escolaridade em um frame\n",
    "QtdEscolaridade = Base.escolaridade.value_counts().to_frame().reset_index()\n",
    "QtdEscolaridade.columns = ['Escolaridade', 'Qtd']\n",
    "\n",
    "# Utilizando o frame para criar um gráfico\n",
    "fig, ax = plt.subplots()   \n",
    "sns.barplot(x=QtdEscolaridade.Escolaridade, y=QtdEscolaridade['Qtd'], ax=ax, data=QtdEscolaridade)\n",
    "ax.set_title(\"Dest. Escolaridade\", fontdict={'fontsize':18})"
   ]
  },
  {
   "cell_type": "markdown",
   "metadata": {},
   "source": [
    "<h5><p style=\"background-color:white; color:blue\"> <b><i>Mostre a Média Salarial do cadastro ?</b> </p></h3>"
   ]
  },
  {
   "cell_type": "code",
   "execution_count": 17,
   "metadata": {},
   "outputs": [
    {
     "name": "stdout",
     "output_type": "stream",
     "text": [
      "Média de salario até 3 anos de experiencia  2688.24\n"
     ]
    }
   ],
   "source": [
    "# Média salario de quem tem de 1 a 3 anos de experiencia\n",
    "Media_1 = Base.loc[(Base['Exp_Profissional'] >0) & (Base['Exp_Profissional'] <4)]\n",
    "print (\"Média de salario até 3 anos de experiencia \",\"%.2f\"%Media_1.salarioAte3.mean())"
   ]
  },
  {
   "cell_type": "code",
   "execution_count": 18,
   "metadata": {},
   "outputs": [
    {
     "name": "stdout",
     "output_type": "stream",
     "text": [
      "Média de salario até 3 anos de experiencia (Incluindo que não tem salário)  2285.00\n"
     ]
    }
   ],
   "source": [
    "# Média salario ate 3 salario (Incluindo que tem 0 salario)\n",
    "Media_2 = Base.loc[Base['Exp_Profissional'] <4]\n",
    "print (\"Média de salario até 3 anos de experiencia (Incluindo que não tem salário) \",\"%.2f\"%Media_2.salarioAte3.mean())"
   ]
  },
  {
   "cell_type": "code",
   "execution_count": 19,
   "metadata": {},
   "outputs": [
    {
     "name": "stdout",
     "output_type": "stream",
     "text": [
      "Média de salario maior que 3 anos de experiencia  8820.00\n"
     ]
    }
   ],
   "source": [
    "# Média salario de quem tem acima de 3 anos de experiencia\n",
    "Media_3 = Base.loc[Base['Exp_Profissional'] >3]\n",
    "print (\"Média de salario maior que 3 anos de experiencia \",\"%.2f\"%Media_3.salarioMaior3.mean())"
   ]
  },
  {
   "cell_type": "markdown",
   "metadata": {},
   "source": [
    "<h5><p style=\"background-color:white; color:blue\"> <b><i>Quem tem o maior salário?</b> </p></h3>"
   ]
  },
  {
   "cell_type": "code",
   "execution_count": 20,
   "metadata": {},
   "outputs": [
    {
     "name": "stdout",
     "output_type": "stream",
     "text": [
      "Considerado pessoas com menos de 4 anos de experiencia temos empate de maiores salarios do        nome\n",
      "5   Dirceu\n",
      "9     João\n",
      "24  Sidney\n"
     ]
    }
   ],
   "source": [
    "Max1 = Base.loc[Base['Exp_Profissional'] <4]\n",
    "print('Considerado pessoas com menos de 4 anos de experiencia temos empate de maiores salarios do ', Max1.loc[(Max1['salarioAte3']==max(Max1.salarioAte3)),['nome']])\n"
   ]
  },
  {
   "cell_type": "code",
   "execution_count": 21,
   "metadata": {},
   "outputs": [
    {
     "name": "stdout",
     "output_type": "stream",
     "text": [
      "Considerado pessoas com mais de tres anos de experiencia o maior salario é da        nome\n",
      "16  Mirtes\n"
     ]
    }
   ],
   "source": [
    "Max2 = Base.loc[Base['Exp_Profissional'] >3]\n",
    "print('Considerado pessoas com mais de tres anos de experiencia o maior salario é da ', Max2.loc[(Max2['salarioMaior3']==max(Max2.salarioMaior3)),['nome']])"
   ]
  },
  {
   "cell_type": "markdown",
   "metadata": {},
   "source": [
    "<h5><p style=\"background-color:white; color:blue\"> <b><i>Tirando desempregado quem recebe menos?</b> </p></h3>"
   ]
  },
  {
   "cell_type": "code",
   "execution_count": 22,
   "metadata": {},
   "outputs": [
    {
     "name": "stdout",
     "output_type": "stream",
     "text": [
      "Desconsiderando desempregados temos um empate de menor salarios        nome\n",
      "13  Marcela\n",
      "17   Camila\n",
      "22  Gabriel\n"
     ]
    }
   ],
   "source": [
    "Minimo1 = Base.loc[Base['profissão'] != 'desempregado']\n",
    "print('Desconsiderando desempregados temos um empate de menor salarios', Minimo1.loc[(Minimo1['salarioAte3']==min(Minimo1.salarioAte3)),['nome']])"
   ]
  },
  {
   "cell_type": "code",
   "execution_count": 23,
   "metadata": {},
   "outputs": [
    {
     "name": "stdout",
     "output_type": "stream",
     "text": [
      "Desconsiderando salarios igual a o menor salario é da       nome\n",
      "11  Vilma\n"
     ]
    }
   ],
   "source": [
    "Minimo2 = Base.loc[Base['salarioAte3'] !=0]\n",
    "print('Desconsiderando salarios igual a o menor salario é da ', Minimo2.loc[(Minimo2['salarioAte3']==min(Minimo2.salarioAte3)),['nome']])"
   ]
  },
  {
   "cell_type": "markdown",
   "metadata": {},
   "source": [
    "<h5><p style=\"background-color:white; color:blue\"> <b><i>Quantas pessoas gostam de caminhar no final de semana ?</b> </p></h3>"
   ]
  },
  {
   "cell_type": "code",
   "execution_count": 161,
   "metadata": {},
   "outputs": [],
   "source": [
    "Caminhada = dict(Counter(Base.lazer_final_de_semana.str.contains('caminhar')))\n"
   ]
  },
  {
   "cell_type": "markdown",
   "metadata": {},
   "source": [
    "<h5><p style=\"background-color:white; color:blue\"> <b><i>Crie um gráfico mostrando entre a relação de escolaridade e quem pratica esporte?</b> </p></h3>"
   ]
  },
  {
   "cell_type": "code",
   "execution_count": 101,
   "metadata": {},
   "outputs": [
    {
     "data": {
      "text/plain": [
       "<matplotlib.axes._subplots.AxesSubplot at 0x21305974190>"
      ]
     },
     "execution_count": 101,
     "metadata": {},
     "output_type": "execute_result"
    },
    {
     "data": {
      "image/png": "[encoded data removed]",
      "text/plain": [
       "<Figure size 432x288 with 1 Axes>"
      ]
     },
     "metadata": {
      "needs_background": "light"
     },
     "output_type": "display_data"
    }
   ],
   "source": [
    "# Média de quantas vezes pratica esportes por escolaridade\n",
    "esporte = Base.groupby(by='escolaridade')['quanta_vezes_na_semana_pratica_esporte'].mean()\n",
    "esporte.plot(kind='bar', title='Qtas x pratica esporte semana')"
   ]
  },
  {
   "cell_type": "markdown",
   "metadata": {},
   "source": [
    "<h5><p style=\"background-color:white; color:blue\"> <b><i>Crie um mapa de calor ?</b> </p></h3>"
   ]
  },
  {
   "cell_type": "code",
   "execution_count": 152,
   "metadata": {},
   "outputs": [
    {
     "data": {
      "text/plain": [
       "<matplotlib.axes._subplots.AxesSubplot at 0x21305d7e310>"
      ]
     },
     "execution_count": 152,
     "metadata": {},
     "output_type": "execute_result"
    },
    {
     "data": {
      "image/png": "[encoded data removed]",
      "text/plain": [
       "<Figure size 432x288 with 2 Axes>"
      ]
     },
     "metadata": {
      "needs_background": "light"
     },
     "output_type": "display_data"
    }
   ],
   "source": [
    "Base['quantidade'] = 1\n",
    "cidade = Base[['cidade', 'quantidade']].groupby('cidade').sum()\n",
    "sns.heatmap(data = cidade, fmt ='d', cmap ='Blues')"
   ]
  },
  {
   "cell_type": "markdown",
   "metadata": {},
   "source": [
    "<h5><p style=\"background-color:white; color:blue\"> <b><i>Mostre de forma gráfica a distribuição de estados do cadastro ?</b> </p></h3>"
   ]
  },
  {
   "cell_type": "code",
   "execution_count": 77,
   "metadata": {},
   "outputs": [
    {
     "data": {
      "image/png": "[encoded data removed]",
      "text/plain": [
       "<Figure size 1728x576 with 1 Axes>"
      ]
     },
     "metadata": {
      "needs_background": "light"
     },
     "output_type": "display_data"
    }
   ],
   "source": [
    "# Salvando dados do agrupamento da base por Estado em um frame\n",
    "QtdEstado = Base.cidade.value_counts().to_frame().reset_index()\n",
    "QtdEstado.columns = ['Estado', 'Qtd']\n",
    "\n",
    "# Utilizando o frame para criar um gráfico\n",
    "fig, ax = plt.subplots(figsize=(24,8))\n",
    "sns.barplot(x=QtdEstado.Estado, y=QtdEstado['Qtd'], ax=ax, data=QtdEstado, color='blue')\n",
    "ax.set_xlabel('Estado', fontdict={'fontsize':20})\n",
    "ax.set_ylabel('Qtd', fontdict={'fontsize':20})\n",
    "ax.tick_params(labelsize=10)\n",
    "ax.set_title(\"Dest. Estado\", fontdict={'fontsize':30})\n",
    "fig.tight_layout();"
   ]
  }
 ],
 "metadata": {
  "kernelspec": {
   "display_name": "Python 3",
   "language": "python",
   "name": "python3"
  },
  "language_info": {
   "codemirror_mode": {
    "name": "ipython",
    "version": 3
   },
   "file_extension": ".py",
   "mimetype": "text/x-python",
   "name": "python",
   "nbconvert_exporter": "python",
   "pygments_lexer": "ipython3",
   "version": "3.8.3"
  }
 },
 "nbformat": 4,
 "nbformat_minor": 4
}
